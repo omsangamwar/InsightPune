{
  "cells": [
    {
      "cell_type": "code",
      "execution_count": null,
      "metadata": {
        "id": "4kMVqpZgNluU"
      },
      "outputs": [],
      "source": [
        "#from google.colab import drive"
      ]
    },
    {
      "cell_type": "code",
      "execution_count": null,
      "metadata": {
        "colab": {
          "base_uri": "https://localhost:8080/"
        },
        "id": "DNJu6hx5PdvX",
        "outputId": "d196aac5-e1b2-4d26-f19a-0459be277fca"
      },
      "outputs": [],
      "source": [
        "#drive.mount('/content/drive')"
      ]
    },
    {
      "cell_type": "code",
      "execution_count": null,
      "metadata": {
        "id": "CWuOqHQRPwtA"
      },
      "outputs": [],
      "source": [
        "import numpy as np\n",
        "import pandas as pd\n",
        "import seaborn as sns\n",
        "import matplotlib.pyplot as plt\n",
        "import hashlib\n",
        "from scipy.stats import iqr\n",
        "from sklearn.preprocessing import LabelEncoder\n",
        "from sklearn.decomposition import PCA\n",
        "from sklearn.decomposition import PCA\n",
        "from sklearn.preprocessing import StandardScaler\n",
        "# importing utility modules\n",
        "from sklearn.model_selection import train_test_split\n",
        "from sklearn.metrics import mean_squared_error\n",
        "\n",
        "# importing machine learning models for prediction\n",
        "import xgboost as xgb\n",
        "from sklearn.ensemble import RandomForestRegressor\n",
        "from sklearn.linear_model import LinearRegression"
      ]
    },
    {
      "cell_type": "code",
      "execution_count": null,
      "metadata": {
        "colab": {
          "base_uri": "https://localhost:8080/",
          "height": 791
        },
        "id": "k74Hxpj_QBKK",
        "outputId": "7c82d85c-ea43-488a-fa01-2ca2cc89ed25"
      },
      "outputs": [],
      "source": [
        "#train=pd.read_csv(\"/content/drive/MyDrive/Datasets/train_data.csv\")\n",
        "train=pd.read_csv(\"pune.csv\")\n",
        "display(train)#display data"
      ]
    },
    {
      "cell_type": "code",
      "execution_count": null,
      "metadata": {
        "colab": {
          "base_uri": "https://localhost:8080/",
          "height": 320
        },
        "id": "0QO_S9mGRxqh",
        "outputId": "4cc21fdb-fb45-401c-f2f5-5ef89bae0099"
      },
      "outputs": [],
      "source": [
        "train.describe()"
      ]
    },
    {
      "cell_type": "code",
      "execution_count": null,
      "metadata": {
        "colab": {
          "base_uri": "https://localhost:8080/"
        },
        "id": "GwmtvFQsR8Hy",
        "outputId": "0c2af73a-d3fb-4046-e045-3e3b3a43a65e"
      },
      "outputs": [],
      "source": [
        "train.isnull().sum()"
      ]
    },
    {
      "cell_type": "code",
      "execution_count": null,
      "metadata": {
        "colab": {
          "base_uri": "https://localhost:8080/"
        },
        "id": "pvr4b_2HSfbk",
        "outputId": "3449af34-d7d5-4ce8-cf68-710fb2b9d8c5"
      },
      "outputs": [],
      "source": [
        "data = train\n",
        "data[['Date','Time']] = data['date_time'].str.split(' ',n=1,expand=True)\n",
        "\n"
      ]
    },
    {
      "cell_type": "code",
      "execution_count": null,
      "metadata": {},
      "outputs": [],
      "source": [
        "data"
      ]
    },
    {
      "cell_type": "code",
      "execution_count": null,
      "metadata": {},
      "outputs": [],
      "source": [
        "data[['Date','Month']] = data['Date'].str.split('-',n=1,expand=True)\n",
        "data[['Month','Year']] = data['Month'].str.split('-',n=1,expand=True)\n"
      ]
    },
    {
      "cell_type": "code",
      "execution_count": null,
      "metadata": {
        "id": "NLaZizj2X28z"
      },
      "outputs": [],
      "source": [
        "data.drop(['location','date_time'],axis=1,inplace=True)"
      ]
    },
    {
      "cell_type": "code",
      "execution_count": null,
      "metadata": {
        "colab": {
          "base_uri": "https://localhost:8080/",
          "height": 791
        },
        "id": "JIZSDpgIYeUs",
        "outputId": "1d795dd0-bd98-4d1d-90ee-896f8d29ff9c"
      },
      "outputs": [],
      "source": [
        "data"
      ]
    },
    {
      "cell_type": "code",
      "execution_count": null,
      "metadata": {},
      "outputs": [],
      "source": [
        "#data.drop(['location','date_time'],axis=1,inplace=True)"
      ]
    },
    {
      "cell_type": "code",
      "execution_count": null,
      "metadata": {},
      "outputs": [],
      "source": [
        "convert_dict = {'Date': int,\n",
        "                'Month': int,\n",
        "                'Year' : int\n",
        "                }\n",
        " \n",
        "data = data.astype(convert_dict)"
      ]
    },
    {
      "cell_type": "code",
      "execution_count": null,
      "metadata": {
        "colab": {
          "base_uri": "https://localhost:8080/"
        },
        "id": "5w9RfIgtYkKe",
        "outputId": "cb62a027-8eff-488e-df37-3dda82dcc153"
      },
      "outputs": [],
      "source": [
        "data.info()"
      ]
    },
    {
      "cell_type": "code",
      "execution_count": null,
      "metadata": {
        "id": "4IXSrd78a71X"
      },
      "outputs": [],
      "source": [
        "# train['year'] = train['date_time'].dt.year\n",
        "# train['month'] = train['date_time'].dt.month\n",
        "# train['day_of_year'] = train['date_time'].dt.dayofyear\n",
        "# train['time'] = train['date_time'].dt.time"
      ]
    },
    {
      "cell_type": "code",
      "execution_count": null,
      "metadata": {
        "id": "H5HjPAxoceiJ"
      },
      "outputs": [],
      "source": [
        "data.drop(['moonrise','moonset','sunrise','sunset'],axis=1,inplace=True)"
      ]
    },
    {
      "cell_type": "code",
      "execution_count": null,
      "metadata": {
        "colab": {
          "base_uri": "https://localhost:8080/",
          "height": 617
        },
        "id": "anYPvNDycyYo",
        "outputId": "fcec8846-d036-4248-a9a2-f247903031de"
      },
      "outputs": [],
      "source": [
        "data.info()"
      ]
    },
    {
      "cell_type": "code",
      "execution_count": null,
      "metadata": {},
      "outputs": [],
      "source": [
        "data['Time'].unique()"
      ]
    },
    {
      "cell_type": "code",
      "execution_count": null,
      "metadata": {},
      "outputs": [],
      "source": [
        "Timeformat = {'00:00': 24,'01:00': 1,'02:00': 2,'03:00': 3,'04:00': 4,'05:00': 5,'06:00': 6,'07:00': 7,'08:00': 8,'09:00': 9,\n",
        "              '10:00': 10,'11:00': 11,'12:00': 12,'13:00': 13,'14:00': 14,'15:00': 15,'16:00': 16,'17:00': 17,'18:00': 18,\n",
        "              '19:00': 19,'20:00': 20,'21:00': 21,'22:00': 22,'23:00': 23,}\n",
        "data['Time'] = data['Time'].map(Timeformat)"
      ]
    },
    {
      "cell_type": "code",
      "execution_count": null,
      "metadata": {},
      "outputs": [],
      "source": [
        "convert_dict = {'Date': int,\n",
        "                'Month': int,\n",
        "                'Year' : int,\n",
        "                'Time' : int\n",
        "                }\n",
        " \n",
        "data = data.astype(convert_dict)"
      ]
    },
    {
      "cell_type": "code",
      "execution_count": null,
      "metadata": {},
      "outputs": [],
      "source": [
        "data"
      ]
    },
    {
      "cell_type": "code",
      "execution_count": null,
      "metadata": {},
      "outputs": [],
      "source": [
        "y1 = data['maxtempC']\n",
        "x1 = data[['Date','Month','Year','Time']]"
      ]
    },
    {
      "cell_type": "code",
      "execution_count": null,
      "metadata": {},
      "outputs": [],
      "source": [
        "x1"
      ]
    },
    {
      "cell_type": "code",
      "execution_count": null,
      "metadata": {},
      "outputs": [],
      "source": [
        "y1"
      ]
    },
    {
      "cell_type": "code",
      "execution_count": null,
      "metadata": {},
      "outputs": [],
      "source": [
        "from sklearn.model_selection import train_test_split\n",
        "#splitting\n",
        "x_train1,x_test1,y_train1,y_test1 = train_test_split(x1,y1,test_size=0.2,random_state=42)"
      ]
    },
    {
      "cell_type": "code",
      "execution_count": null,
      "metadata": {},
      "outputs": [],
      "source": [
        "from sklearn.ensemble import RandomForestClassifier\n",
        "rf1 = RandomForestClassifier()"
      ]
    },
    {
      "cell_type": "code",
      "execution_count": null,
      "metadata": {},
      "outputs": [],
      "source": [
        "rf1.fit(x_train1,y_train1)"
      ]
    },
    {
      "cell_type": "code",
      "execution_count": null,
      "metadata": {},
      "outputs": [],
      "source": [
        "from sklearn.metrics import accuracy_score\n",
        "y_pred1 = rf1.predict(x_test1)\n",
        "accuracy_score(y_test1,y_pred1)"
      ]
    },
    {
      "cell_type": "code",
      "execution_count": null,
      "metadata": {},
      "outputs": [],
      "source": [
        "y_pred1"
      ]
    },
    {
      "cell_type": "code",
      "execution_count": null,
      "metadata": {},
      "outputs": [],
      "source": [
        "y2 = data['mintempC']\n",
        "x2 = data[['Date','Month','Year','Time']]"
      ]
    },
    {
      "cell_type": "code",
      "execution_count": null,
      "metadata": {},
      "outputs": [],
      "source": [
        "from sklearn.model_selection import train_test_split\n",
        "#splitting\n",
        "x_train2,x_test2,y_train2,y_test2 = train_test_split(x2,y2,test_size=0.2,random_state=42)"
      ]
    },
    {
      "cell_type": "code",
      "execution_count": null,
      "metadata": {},
      "outputs": [],
      "source": [
        "from sklearn.ensemble import RandomForestClassifier\n",
        "rf2 = RandomForestClassifier()"
      ]
    },
    {
      "cell_type": "code",
      "execution_count": null,
      "metadata": {},
      "outputs": [],
      "source": [
        "rf2.fit(x_train2,y_train2)"
      ]
    },
    {
      "cell_type": "code",
      "execution_count": null,
      "metadata": {},
      "outputs": [],
      "source": [
        "from sklearn.metrics import accuracy_score\n",
        "y_pred2 = rf2.predict(x_test2)\n",
        "accuracy_score(y_test2,y_pred2)"
      ]
    },
    {
      "cell_type": "code",
      "execution_count": null,
      "metadata": {},
      "outputs": [],
      "source": [
        "y_pred2"
      ]
    }
  ],
  "metadata": {
    "colab": {
      "provenance": []
    },
    "kernelspec": {
      "display_name": "Python 3",
      "name": "python3"
    },
    "language_info": {
      "codemirror_mode": {
        "name": "ipython",
        "version": 3
      },
      "file_extension": ".py",
      "mimetype": "text/x-python",
      "name": "python",
      "nbconvert_exporter": "python",
      "pygments_lexer": "ipython3",
      "version": "3.10.11"
    }
  },
  "nbformat": 4,
  "nbformat_minor": 0
}
